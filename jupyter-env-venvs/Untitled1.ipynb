{
 "cells": [
  {
   "cell_type": "code",
   "execution_count": null,
   "id": "0433eb8a-3fe8-4e49-b7d1-f2d7d919b693",
   "metadata": {},
   "outputs": [],
   "source": []
  }
 ],
 "metadata": {
  "kernelspec": {
   "display_name": "",
   "name": ""
  },
  "language_info": {
   "name": ""
  }
 },
 "nbformat": 4,
 "nbformat_minor": 5
}
