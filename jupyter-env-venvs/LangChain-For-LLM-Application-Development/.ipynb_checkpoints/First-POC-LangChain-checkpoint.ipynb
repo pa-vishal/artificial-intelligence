{
 "cells": [
  {
   "cell_type": "code",
   "execution_count": 8,
   "id": "2cf2d116-2df5-4b1e-944b-9bd83269cf69",
   "metadata": {},
   "outputs": [
    {
     "name": "stdout",
     "output_type": "stream",
     "text": [
      "Collecting python-dotenv\n",
      "  Downloading python_dotenv-1.0.1-py3-none-any.whl.metadata (23 kB)\n",
      "Downloading python_dotenv-1.0.1-py3-none-any.whl (19 kB)\n",
      "Installing collected packages: python-dotenv\n",
      "Successfully installed python-dotenv-1.0.1\n",
      "Collecting openai\n",
      "  Downloading openai-1.28.1-py3-none-any.whl.metadata (21 kB)\n",
      "Requirement already satisfied: anyio<5,>=3.5.0 in c:\\users\\vpatil16\\appdata\\local\\programs\\python\\python310\\ford-venvs\\jupyter_env_10_5_2024\\lib\\site-packages (from openai) (4.3.0)\n",
      "Collecting distro<2,>=1.7.0 (from openai)\n",
      "  Downloading distro-1.9.0-py3-none-any.whl.metadata (6.8 kB)\n",
      "Requirement already satisfied: httpx<1,>=0.23.0 in c:\\users\\vpatil16\\appdata\\local\\programs\\python\\python310\\ford-venvs\\jupyter_env_10_5_2024\\lib\\site-packages (from openai) (0.27.0)\n",
      "Collecting pydantic<3,>=1.9.0 (from openai)\n",
      "  Downloading pydantic-2.7.1-py3-none-any.whl.metadata (107 kB)\n",
      "     ---------------------------------------- 0.0/107.3 kB ? eta -:--:--\n",
      "     --- ------------------------------------ 10.2/107.3 kB ? eta -:--:--\n",
      "     ---------------------- ----------------- 61.4/107.3 kB 656.4 kB/s eta 0:00:01\n",
      "     -------------------------- ------------- 71.7/107.3 kB 558.5 kB/s eta 0:00:01\n",
      "     ---------------------------------------- 107.3/107.3 kB 776.7 kB/s eta 0:00:00\n",
      "Requirement already satisfied: sniffio in c:\\users\\vpatil16\\appdata\\local\\programs\\python\\python310\\ford-venvs\\jupyter_env_10_5_2024\\lib\\site-packages (from openai) (1.3.1)\n",
      "Collecting tqdm>4 (from openai)\n",
      "  Downloading tqdm-4.66.4-py3-none-any.whl.metadata (57 kB)\n",
      "     ---------------------------------------- 0.0/57.6 kB ? eta -:--:--\n",
      "     ---------------------------------------- 57.6/57.6 kB 3.0 MB/s eta 0:00:00\n",
      "Requirement already satisfied: typing-extensions<5,>=4.7 in c:\\users\\vpatil16\\appdata\\local\\programs\\python\\python310\\ford-venvs\\jupyter_env_10_5_2024\\lib\\site-packages (from openai) (4.11.0)\n",
      "Requirement already satisfied: idna>=2.8 in c:\\users\\vpatil16\\appdata\\local\\programs\\python\\python310\\ford-venvs\\jupyter_env_10_5_2024\\lib\\site-packages (from anyio<5,>=3.5.0->openai) (3.7)\n",
      "Requirement already satisfied: exceptiongroup>=1.0.2 in c:\\users\\vpatil16\\appdata\\local\\programs\\python\\python310\\ford-venvs\\jupyter_env_10_5_2024\\lib\\site-packages (from anyio<5,>=3.5.0->openai) (1.2.1)\n",
      "Requirement already satisfied: certifi in c:\\users\\vpatil16\\appdata\\local\\programs\\python\\python310\\ford-venvs\\jupyter_env_10_5_2024\\lib\\site-packages (from httpx<1,>=0.23.0->openai) (2024.2.2)\n",
      "Requirement already satisfied: httpcore==1.* in c:\\users\\vpatil16\\appdata\\local\\programs\\python\\python310\\ford-venvs\\jupyter_env_10_5_2024\\lib\\site-packages (from httpx<1,>=0.23.0->openai) (1.0.5)\n",
      "Requirement already satisfied: h11<0.15,>=0.13 in c:\\users\\vpatil16\\appdata\\local\\programs\\python\\python310\\ford-venvs\\jupyter_env_10_5_2024\\lib\\site-packages (from httpcore==1.*->httpx<1,>=0.23.0->openai) (0.14.0)\n",
      "Collecting annotated-types>=0.4.0 (from pydantic<3,>=1.9.0->openai)\n",
      "  Downloading annotated_types-0.6.0-py3-none-any.whl.metadata (12 kB)\n",
      "Collecting pydantic-core==2.18.2 (from pydantic<3,>=1.9.0->openai)\n",
      "  Downloading pydantic_core-2.18.2-cp310-none-win_amd64.whl.metadata (6.7 kB)\n",
      "Requirement already satisfied: colorama in c:\\users\\vpatil16\\appdata\\local\\programs\\python\\python310\\ford-venvs\\jupyter_env_10_5_2024\\lib\\site-packages (from tqdm>4->openai) (0.4.6)\n",
      "Downloading openai-1.28.1-py3-none-any.whl (320 kB)\n",
      "   ---------------------------------------- 0.0/320.1 kB ? eta -:--:--\n",
      "   ----------- ---------------------------- 92.2/320.1 kB 5.1 MB/s eta 0:00:01\n",
      "   ------------------------ --------------- 194.6/320.1 kB 2.9 MB/s eta 0:00:01\n",
      "   ---------------------------------------  317.4/320.1 kB 2.5 MB/s eta 0:00:01\n",
      "   ---------------------------------------- 320.1/320.1 kB 2.2 MB/s eta 0:00:00\n",
      "Downloading distro-1.9.0-py3-none-any.whl (20 kB)\n",
      "Downloading pydantic-2.7.1-py3-none-any.whl (409 kB)\n",
      "   ---------------------------------------- 0.0/409.3 kB ? eta -:--:--\n",
      "   ----------------- ---------------------- 174.1/409.3 kB 10.2 MB/s eta 0:00:01\n",
      "   ------------------------------------ --- 368.6/409.3 kB 4.5 MB/s eta 0:00:01\n",
      "   ---------------------------------------- 409.3/409.3 kB 4.2 MB/s eta 0:00:00\n",
      "Downloading pydantic_core-2.18.2-cp310-none-win_amd64.whl (1.9 MB)\n",
      "   ---------------------------------------- 0.0/1.9 MB ? eta -:--:--\n",
      "   ----- ---------------------------------- 0.3/1.9 MB 8.6 MB/s eta 0:00:01\n",
      "   ---------- ----------------------------- 0.5/1.9 MB 5.4 MB/s eta 0:00:01\n",
      "   -------------- ------------------------- 0.7/1.9 MB 6.2 MB/s eta 0:00:01\n",
      "   ------------------------ --------------- 1.2/1.9 MB 6.7 MB/s eta 0:00:01\n",
      "   ------------------------------- -------- 1.5/1.9 MB 6.3 MB/s eta 0:00:01\n",
      "   ----------------------------------- ---- 1.7/1.9 MB 6.0 MB/s eta 0:00:01\n",
      "   ---------------------------------------- 1.9/1.9 MB 6.1 MB/s eta 0:00:00\n",
      "Downloading tqdm-4.66.4-py3-none-any.whl (78 kB)\n",
      "   ---------------------------------------- 0.0/78.3 kB ? eta -:--:--\n",
      "   ---------------------------------------- 78.3/78.3 kB ? eta 0:00:00\n",
      "Downloading annotated_types-0.6.0-py3-none-any.whl (12 kB)\n",
      "Installing collected packages: tqdm, pydantic-core, distro, annotated-types, pydantic, openai\n",
      "Successfully installed annotated-types-0.6.0 distro-1.9.0 openai-1.28.1 pydantic-2.7.1 pydantic-core-2.18.2 tqdm-4.66.4\n"
     ]
    }
   ],
   "source": [
    "!pip install python-dotenv\n",
    "!pip install openai"
   ]
  },
  {
   "cell_type": "code",
   "execution_count": 2,
   "id": "c8bccf86-5751-4550-b26f-567ebbe3264f",
   "metadata": {},
   "outputs": [],
   "source": [
    "import os\n",
    "from openai import OpenAI\n",
    "\n",
    "from dotenv import load_dotenv, find_dotenv\n",
    "_ = load_dotenv(find_dotenv())\n",
    "\n",
    "#openai.api_key = os.environ['OPENAI_API_KEY']"
   ]
  },
  {
   "cell_type": "code",
   "execution_count": 50,
   "id": "9e80cd8d-8d05-4867-b4d9-d828d06f07ef",
   "metadata": {},
   "outputs": [],
   "source": [
    "# account for deprecation of LLM model\n",
    "import datetime\n",
    "# Get the current date\n",
    "current_date = datetime.datetime.now().date()\n",
    "\n",
    "# Define the date after which the model should be set to \"gpt-3.5-turbo\"\n",
    "target_date = datetime.date(2024, 6, 12)\n",
    "\n",
    "# Set the model variable based on the current date\n",
    "#if current_date > target_date:\n",
    "#    llm_model = \"gpt-3.5-turbo\"\n",
    "#else:\n",
    "#    llm_model = \"gpt-3.5-turbo-0301\""
   ]
  },
  {
   "cell_type": "code",
   "execution_count": null,
   "id": "51cd0b3c-7d78-49ac-96ed-b2cd518320e2",
   "metadata": {},
   "outputs": [],
   "source": []
  },
  {
   "cell_type": "code",
   "execution_count": 15,
   "id": "5ec727c6-667b-4eb8-a733-8bc52f4addbc",
   "metadata": {},
   "outputs": [
    {
     "name": "stdout",
     "output_type": "stream",
     "text": [
      "<class 'openai.OpenAI'>\n"
     ]
    }
   ],
   "source": [
    "#llm_model = \"gpt-3.5-turbo\"\n",
    "llm_model = \"gpt-3.5-turbo\"\n",
    "client = OpenAI(\n",
    "    # This is the default and can be omitted\n",
    "    api_key=os.environ.get(\"OPENAI_API_KEY\"),\n",
    ")\n",
    "#print(os.environ.get(\"OPENAI_API_KEY\"))\n",
    "print(type(client))\n",
    "\n",
    "def get_completion(prompt):\n",
    "    response = client.chat.completions.create(\n",
    "        messages= [\n",
    "            {\n",
    "                \"role\": \"user\", \n",
    "                \"content\": prompt,\n",
    "                \"temperature\":1,\n",
    "                \"max_tokens\":256,\n",
    "                \"top_p\":1,\n",
    "                \"frequency_penalty\":0,\n",
    "                \"presence_penalty\":0,\n",
    "            }\n",
    "        ], \n",
    "        model=llm_model,\n",
    "    )\n",
    "    return response.choices[0].message.content\n",
    "    "
   ]
  },
  {
   "cell_type": "code",
   "execution_count": 16,
   "id": "1ae8e9c8-ab25-40aa-aec5-1d2cf142f1c6",
   "metadata": {},
   "outputs": [
    {
     "data": {
      "text/plain": [
       "'Data science is a field that uses scientific methods, algorithms, and systems to extract insights and knowledge from structured and unstructured data. It combines techniques from statistics, machine learning, computer science, and data visualization to analyze and interpret complex data sets. Data scientists use their skills to uncover patterns, trends, and correlations that can help businesses make data-driven decisions and solve complex problems.'"
      ]
     },
     "execution_count": 16,
     "metadata": {},
     "output_type": "execute_result"
    }
   ],
   "source": [
    "get_completion(\"What is Data Science?\")\n"
   ]
  },
  {
   "cell_type": "code",
   "execution_count": null,
   "id": "11c80d44-2ba2-4ffd-9474-8172e0ffe7c2",
   "metadata": {},
   "outputs": [],
   "source": []
  },
  {
   "cell_type": "code",
   "execution_count": 17,
   "id": "3a72b843-07d3-4415-919f-40b145fe71b6",
   "metadata": {},
   "outputs": [],
   "source": [
    "pirate_talk = \"\"\"\n",
    "Arrr, I be fuming that me blender lid \\\n",
    "flew off and splattered me kitchen walls \\\n",
    "with smoothie! And to make matters worse,\\\n",
    "the warranty don't cover the cost of \\\n",
    "cleaning up me kitchen. I need yer help \\\n",
    "right now, matey!\n",
    "\"\"\""
   ]
  },
  {
   "cell_type": "code",
   "execution_count": 21,
   "id": "dd46a421-b7db-48d6-9245-90e5954eec2a",
   "metadata": {},
   "outputs": [],
   "source": [
    "#We want to respond to above in Americal English. To first we create a prompt that will instruct api to traslate:\n"
   ]
  },
  {
   "cell_type": "code",
   "execution_count": 18,
   "id": "76258d78-87dd-4bc4-8df5-daa2e1321901",
   "metadata": {},
   "outputs": [],
   "source": [
    "style = \"\"\"American English \\\n",
    "in a calm and respectful tone\n",
    "\"\"\""
   ]
  },
  {
   "cell_type": "code",
   "execution_count": 20,
   "id": "b9a82f12-3247-499f-8697-42f4fabfe29d",
   "metadata": {},
   "outputs": [
    {
     "name": "stdout",
     "output_type": "stream",
     "text": [
      "Translate the text that is delimited by triple backticks \n",
      "into a style that is American English in a calm and respectful tone\n",
      ".\n",
      "text: ```\n",
      "Arrr, I be fuming that me blender lid flew off and splattered me kitchen walls with smoothie! And to make matters worse,the warranty don't cover the cost of cleaning up me kitchen. I need yer help right now, matey!\n",
      "```\n",
      "\n"
     ]
    }
   ],
   "source": [
    "prompt = f\"\"\"Translate the text \\\n",
    "that is delimited by triple backticks \n",
    "into a style that is {style}.\n",
    "text: ```{pirate_talk}```\n",
    "\"\"\"\n",
    "\n",
    "print(prompt)"
   ]
  },
  {
   "cell_type": "code",
   "execution_count": 23,
   "id": "17aed8f5-804f-465f-92eb-b70a6cfb2047",
   "metadata": {},
   "outputs": [],
   "source": [
    "#We then use that prompt and call the api"
   ]
  },
  {
   "cell_type": "code",
   "execution_count": 24,
   "id": "da630501-7aa5-488c-9816-2de31e6a699b",
   "metadata": {},
   "outputs": [],
   "source": [
    "translated = get_completion(prompt)"
   ]
  },
  {
   "cell_type": "code",
   "execution_count": 25,
   "id": "f283c801-57bb-4e50-a33a-68ac6b32a966",
   "metadata": {},
   "outputs": [
    {
     "data": {
      "text/plain": [
       "\"I'm really frustrated that my blender lid flew off and splattered my kitchen walls with smoothie! And to make matters worse, the warranty doesn't cover the cost of cleaning up my kitchen. I could really use your help right now, friend.\""
      ]
     },
     "execution_count": 25,
     "metadata": {},
     "output_type": "execute_result"
    }
   ],
   "source": [
    "translated"
   ]
  },
  {
   "cell_type": "code",
   "execution_count": null,
   "id": "d7877272-f798-458b-b566-519f8b60eb39",
   "metadata": {},
   "outputs": [],
   "source": []
  },
  {
   "cell_type": "code",
   "execution_count": 27,
   "id": "6e408c88-6fae-4769-97e7-8e5c95ed0294",
   "metadata": {},
   "outputs": [],
   "source": [
    "marathi=\"तू कसा आहेस\""
   ]
  },
  {
   "cell_type": "code",
   "execution_count": 29,
   "id": "73844fd3-04e8-4ace-b3c0-f13c2253999c",
   "metadata": {},
   "outputs": [
    {
     "name": "stdout",
     "output_type": "stream",
     "text": [
      "Translate the text that is delimited by triple backticks \n",
      "into a style that is American English in a calm and respectful tone\n",
      ".\n",
      "text: ```तू कसा आहेस```\n",
      "\n"
     ]
    }
   ],
   "source": [
    "prompt = f\"\"\"Translate the text \\\n",
    "that is delimited by triple backticks \n",
    "into a style that is {style}.\n",
    "text: ```{marathi}```\n",
    "\"\"\"\n",
    "print(prompt)"
   ]
  },
  {
   "cell_type": "code",
   "execution_count": null,
   "id": "81e50331-262b-46db-9317-ab53103be05c",
   "metadata": {},
   "outputs": [],
   "source": []
  },
  {
   "cell_type": "code",
   "execution_count": 30,
   "id": "eea267c3-9770-4b33-a75e-1d90799c6bcc",
   "metadata": {},
   "outputs": [
    {
     "data": {
      "text/plain": [
       "'How are you doing?'"
      ]
     },
     "execution_count": 30,
     "metadata": {},
     "output_type": "execute_result"
    }
   ],
   "source": [
    "get_completion(prompt)\n"
   ]
  },
  {
   "cell_type": "code",
   "execution_count": null,
   "id": "c6e8473d-2f83-4c11-bc0c-11e7c2d05315",
   "metadata": {},
   "outputs": [],
   "source": []
  },
  {
   "cell_type": "code",
   "execution_count": 31,
   "id": "39a3c10e-1c3c-4d1a-ab6a-405a04908c30",
   "metadata": {},
   "outputs": [],
   "source": [
    "#Doing above using Lanchain, and getting a response \n"
   ]
  },
  {
   "cell_type": "markdown",
   "id": "1b0f850d-0aae-4fb4-b27c-478e1c5dac09",
   "metadata": {},
   "source": [
    "## Chat API : LangChain\n"
   ]
  },
  {
   "cell_type": "code",
   "execution_count": 32,
   "id": "f2095292-00c5-46a8-b815-934eea8e324a",
   "metadata": {},
   "outputs": [
    {
     "name": "stdout",
     "output_type": "stream",
     "text": [
      "Collecting langchain\n",
      "  Downloading langchain-0.1.20-py3-none-any.whl.metadata (13 kB)\n",
      "Requirement already satisfied: PyYAML>=5.3 in c:\\users\\vpatil16\\appdata\\local\\programs\\python\\python310\\ford-venvs\\jupyter_env_10_5_2024\\lib\\site-packages (from langchain) (6.0.1)\n",
      "Collecting SQLAlchemy<3,>=1.4 (from langchain)\n",
      "  Downloading SQLAlchemy-2.0.30-cp310-cp310-win_amd64.whl.metadata (9.8 kB)\n",
      "Collecting aiohttp<4.0.0,>=3.8.3 (from langchain)\n",
      "  Downloading aiohttp-3.9.5-cp310-cp310-win_amd64.whl.metadata (7.7 kB)\n",
      "Collecting async-timeout<5.0.0,>=4.0.0 (from langchain)\n",
      "  Downloading async_timeout-4.0.3-py3-none-any.whl.metadata (4.2 kB)\n",
      "Collecting dataclasses-json<0.7,>=0.5.7 (from langchain)\n",
      "  Downloading dataclasses_json-0.6.6-py3-none-any.whl.metadata (25 kB)\n",
      "Collecting langchain-community<0.1,>=0.0.38 (from langchain)\n",
      "  Downloading langchain_community-0.0.38-py3-none-any.whl.metadata (8.7 kB)\n",
      "Collecting langchain-core<0.2.0,>=0.1.52 (from langchain)\n",
      "  Downloading langchain_core-0.1.52-py3-none-any.whl.metadata (5.9 kB)\n",
      "Collecting langchain-text-splitters<0.1,>=0.0.1 (from langchain)\n",
      "  Downloading langchain_text_splitters-0.0.1-py3-none-any.whl.metadata (2.0 kB)\n",
      "Collecting langsmith<0.2.0,>=0.1.17 (from langchain)\n",
      "  Downloading langsmith-0.1.57-py3-none-any.whl.metadata (13 kB)\n",
      "Requirement already satisfied: numpy<2,>=1 in c:\\users\\vpatil16\\appdata\\local\\programs\\python\\python310\\ford-venvs\\jupyter_env_10_5_2024\\lib\\site-packages (from langchain) (1.26.4)\n",
      "Requirement already satisfied: pydantic<3,>=1 in c:\\users\\vpatil16\\appdata\\local\\programs\\python\\python310\\ford-venvs\\jupyter_env_10_5_2024\\lib\\site-packages (from langchain) (2.7.1)\n",
      "Requirement already satisfied: requests<3,>=2 in c:\\users\\vpatil16\\appdata\\local\\programs\\python\\python310\\ford-venvs\\jupyter_env_10_5_2024\\lib\\site-packages (from langchain) (2.31.0)\n",
      "Collecting tenacity<9.0.0,>=8.1.0 (from langchain)\n",
      "  Downloading tenacity-8.3.0-py3-none-any.whl.metadata (1.2 kB)\n",
      "Collecting aiosignal>=1.1.2 (from aiohttp<4.0.0,>=3.8.3->langchain)\n",
      "  Downloading aiosignal-1.3.1-py3-none-any.whl.metadata (4.0 kB)\n",
      "Requirement already satisfied: attrs>=17.3.0 in c:\\users\\vpatil16\\appdata\\local\\programs\\python\\python310\\ford-venvs\\jupyter_env_10_5_2024\\lib\\site-packages (from aiohttp<4.0.0,>=3.8.3->langchain) (23.2.0)\n",
      "Collecting frozenlist>=1.1.1 (from aiohttp<4.0.0,>=3.8.3->langchain)\n",
      "  Downloading frozenlist-1.4.1-cp310-cp310-win_amd64.whl.metadata (12 kB)\n",
      "Collecting multidict<7.0,>=4.5 (from aiohttp<4.0.0,>=3.8.3->langchain)\n",
      "  Downloading multidict-6.0.5-cp310-cp310-win_amd64.whl.metadata (4.3 kB)\n",
      "Collecting yarl<2.0,>=1.0 (from aiohttp<4.0.0,>=3.8.3->langchain)\n",
      "  Downloading yarl-1.9.4-cp310-cp310-win_amd64.whl.metadata (32 kB)\n",
      "Collecting marshmallow<4.0.0,>=3.18.0 (from dataclasses-json<0.7,>=0.5.7->langchain)\n",
      "  Downloading marshmallow-3.21.2-py3-none-any.whl.metadata (7.1 kB)\n",
      "Collecting typing-inspect<1,>=0.4.0 (from dataclasses-json<0.7,>=0.5.7->langchain)\n",
      "  Downloading typing_inspect-0.9.0-py3-none-any.whl.metadata (1.5 kB)\n",
      "Collecting jsonpatch<2.0,>=1.33 (from langchain-core<0.2.0,>=0.1.52->langchain)\n",
      "  Downloading jsonpatch-1.33-py2.py3-none-any.whl.metadata (3.0 kB)\n",
      "Collecting packaging<24.0,>=23.2 (from langchain-core<0.2.0,>=0.1.52->langchain)\n",
      "  Downloading packaging-23.2-py3-none-any.whl.metadata (3.2 kB)\n",
      "Collecting orjson<4.0.0,>=3.9.14 (from langsmith<0.2.0,>=0.1.17->langchain)\n",
      "  Downloading orjson-3.10.3-cp310-none-win_amd64.whl.metadata (50 kB)\n",
      "     ---------------------------------------- 0.0/50.9 kB ? eta -:--:--\n",
      "     ---------------------------------------- 50.9/50.9 kB ? eta 0:00:00\n",
      "Requirement already satisfied: annotated-types>=0.4.0 in c:\\users\\vpatil16\\appdata\\local\\programs\\python\\python310\\ford-venvs\\jupyter_env_10_5_2024\\lib\\site-packages (from pydantic<3,>=1->langchain) (0.6.0)\n",
      "Requirement already satisfied: pydantic-core==2.18.2 in c:\\users\\vpatil16\\appdata\\local\\programs\\python\\python310\\ford-venvs\\jupyter_env_10_5_2024\\lib\\site-packages (from pydantic<3,>=1->langchain) (2.18.2)\n",
      "Requirement already satisfied: typing-extensions>=4.6.1 in c:\\users\\vpatil16\\appdata\\local\\programs\\python\\python310\\ford-venvs\\jupyter_env_10_5_2024\\lib\\site-packages (from pydantic<3,>=1->langchain) (4.11.0)\n",
      "Requirement already satisfied: charset-normalizer<4,>=2 in c:\\users\\vpatil16\\appdata\\local\\programs\\python\\python310\\ford-venvs\\jupyter_env_10_5_2024\\lib\\site-packages (from requests<3,>=2->langchain) (3.3.2)\n",
      "Requirement already satisfied: idna<4,>=2.5 in c:\\users\\vpatil16\\appdata\\local\\programs\\python\\python310\\ford-venvs\\jupyter_env_10_5_2024\\lib\\site-packages (from requests<3,>=2->langchain) (3.7)\n",
      "Requirement already satisfied: urllib3<3,>=1.21.1 in c:\\users\\vpatil16\\appdata\\local\\programs\\python\\python310\\ford-venvs\\jupyter_env_10_5_2024\\lib\\site-packages (from requests<3,>=2->langchain) (2.2.1)\n",
      "Requirement already satisfied: certifi>=2017.4.17 in c:\\users\\vpatil16\\appdata\\local\\programs\\python\\python310\\ford-venvs\\jupyter_env_10_5_2024\\lib\\site-packages (from requests<3,>=2->langchain) (2024.2.2)\n",
      "Collecting greenlet!=0.4.17 (from SQLAlchemy<3,>=1.4->langchain)\n",
      "  Downloading greenlet-3.0.3-cp310-cp310-win_amd64.whl.metadata (3.9 kB)\n",
      "Requirement already satisfied: jsonpointer>=1.9 in c:\\users\\vpatil16\\appdata\\local\\programs\\python\\python310\\ford-venvs\\jupyter_env_10_5_2024\\lib\\site-packages (from jsonpatch<2.0,>=1.33->langchain-core<0.2.0,>=0.1.52->langchain) (2.4)\n",
      "Collecting mypy-extensions>=0.3.0 (from typing-inspect<1,>=0.4.0->dataclasses-json<0.7,>=0.5.7->langchain)\n",
      "  Downloading mypy_extensions-1.0.0-py3-none-any.whl.metadata (1.1 kB)\n",
      "Downloading langchain-0.1.20-py3-none-any.whl (1.0 MB)\n",
      "   ---------------------------------------- 0.0/1.0 MB ? eta -:--:--\n",
      "   ---- ----------------------------------- 0.1/1.0 MB 6.4 MB/s eta 0:00:01\n",
      "   ---------- ----------------------------- 0.3/1.0 MB 3.9 MB/s eta 0:00:01\n",
      "   --------------- ------------------------ 0.4/1.0 MB 3.5 MB/s eta 0:00:01\n",
      "   ------------------------ --------------- 0.6/1.0 MB 3.3 MB/s eta 0:00:01\n",
      "   ------------------------------------- -- 1.0/1.0 MB 4.1 MB/s eta 0:00:01\n",
      "   ---------------------------------------- 1.0/1.0 MB 4.0 MB/s eta 0:00:00\n",
      "Downloading aiohttp-3.9.5-cp310-cp310-win_amd64.whl (370 kB)\n",
      "   ---------------------------------------- 0.0/370.7 kB ? eta -:--:--\n",
      "   ---------------------------------------- 370.7/370.7 kB 24.0 MB/s eta 0:00:00\n",
      "Downloading async_timeout-4.0.3-py3-none-any.whl (5.7 kB)\n",
      "Downloading dataclasses_json-0.6.6-py3-none-any.whl (28 kB)\n",
      "Downloading langchain_community-0.0.38-py3-none-any.whl (2.0 MB)\n",
      "   ---------------------------------------- 0.0/2.0 MB ? eta -:--:--\n",
      "   -------------------- ------------------- 1.0/2.0 MB 64.0 MB/s eta 0:00:01\n",
      "   ---------------------------- ----------- 1.4/2.0 MB 18.1 MB/s eta 0:00:01\n",
      "   ---------------------------------------  2.0/2.0 MB 18.3 MB/s eta 0:00:01\n",
      "   ---------------------------------------- 2.0/2.0 MB 16.1 MB/s eta 0:00:00\n",
      "Downloading langchain_core-0.1.52-py3-none-any.whl (302 kB)\n",
      "   ---------------------------------------- 0.0/302.9 kB ? eta -:--:--\n",
      "   ---------------------------------------- 302.9/302.9 kB 18.3 MB/s eta 0:00:00\n",
      "Downloading langchain_text_splitters-0.0.1-py3-none-any.whl (21 kB)\n",
      "Downloading langsmith-0.1.57-py3-none-any.whl (121 kB)\n",
      "   ---------------------------------------- 0.0/121.0 kB ? eta -:--:--\n",
      "   ---------------------------------------- 121.0/121.0 kB 6.9 MB/s eta 0:00:00\n",
      "Downloading SQLAlchemy-2.0.30-cp310-cp310-win_amd64.whl (2.1 MB)\n",
      "   ---------------------------------------- 0.0/2.1 MB ? eta -:--:--\n",
      "   -------------------- ------------------- 1.0/2.1 MB 33.4 MB/s eta 0:00:01\n",
      "   -------------------------------- ------- 1.7/2.1 MB 21.7 MB/s eta 0:00:01\n",
      "   ---------------------------------------- 2.1/2.1 MB 16.5 MB/s eta 0:00:00\n",
      "Downloading tenacity-8.3.0-py3-none-any.whl (25 kB)\n",
      "Downloading aiosignal-1.3.1-py3-none-any.whl (7.6 kB)\n",
      "Downloading frozenlist-1.4.1-cp310-cp310-win_amd64.whl (50 kB)\n",
      "   ---------------------------------------- 0.0/50.4 kB ? eta -:--:--\n",
      "   ---------------------------------------- 50.4/50.4 kB 2.5 MB/s eta 0:00:00\n",
      "Downloading greenlet-3.0.3-cp310-cp310-win_amd64.whl (292 kB)\n",
      "   ---------------------------------------- 0.0/292.3 kB ? eta -:--:--\n",
      "   ---------------------------------------- 292.3/292.3 kB 17.6 MB/s eta 0:00:00\n",
      "Downloading jsonpatch-1.33-py2.py3-none-any.whl (12 kB)\n",
      "Downloading marshmallow-3.21.2-py3-none-any.whl (49 kB)\n",
      "   ---------------------------------------- 0.0/49.3 kB ? eta -:--:--\n",
      "   ---------------------------------------- 49.3/49.3 kB 2.4 MB/s eta 0:00:00\n",
      "Downloading multidict-6.0.5-cp310-cp310-win_amd64.whl (28 kB)\n",
      "Downloading orjson-3.10.3-cp310-none-win_amd64.whl (138 kB)\n",
      "   ---------------------------------------- 0.0/138.8 kB ? eta -:--:--\n",
      "   ---------------------------------------- 138.8/138.8 kB 8.6 MB/s eta 0:00:00\n",
      "Downloading packaging-23.2-py3-none-any.whl (53 kB)\n",
      "   ---------------------------------------- 0.0/53.0 kB ? eta -:--:--\n",
      "   ---------------------------------------- 53.0/53.0 kB 2.7 MB/s eta 0:00:00\n",
      "Downloading typing_inspect-0.9.0-py3-none-any.whl (8.8 kB)\n",
      "Downloading yarl-1.9.4-cp310-cp310-win_amd64.whl (76 kB)\n",
      "   ---------------------------------------- 0.0/76.4 kB ? eta -:--:--\n",
      "   ---------------------------------------- 76.4/76.4 kB 4.1 MB/s eta 0:00:00\n",
      "Downloading mypy_extensions-1.0.0-py3-none-any.whl (4.7 kB)\n",
      "Installing collected packages: tenacity, packaging, orjson, mypy-extensions, multidict, jsonpatch, greenlet, frozenlist, async-timeout, yarl, typing-inspect, SQLAlchemy, marshmallow, aiosignal, langsmith, dataclasses-json, aiohttp, langchain-core, langchain-text-splitters, langchain-community, langchain\n",
      "  Attempting uninstall: packaging\n",
      "    Found existing installation: packaging 24.0\n",
      "    Uninstalling packaging-24.0:\n",
      "      Successfully uninstalled packaging-24.0\n",
      "Successfully installed SQLAlchemy-2.0.30 aiohttp-3.9.5 aiosignal-1.3.1 async-timeout-4.0.3 dataclasses-json-0.6.6 frozenlist-1.4.1 greenlet-3.0.3 jsonpatch-1.33 langchain-0.1.20 langchain-community-0.0.38 langchain-core-0.1.52 langchain-text-splitters-0.0.1 langsmith-0.1.57 marshmallow-3.21.2 multidict-6.0.5 mypy-extensions-1.0.0 orjson-3.10.3 packaging-23.2 tenacity-8.3.0 typing-inspect-0.9.0 yarl-1.9.4\n"
     ]
    }
   ],
   "source": [
    "!pip install --upgrade langchain"
   ]
  },
  {
   "cell_type": "markdown",
   "id": "e28c48d6-31d9-4c69-9617-9128c4182f6b",
   "metadata": {},
   "source": [
    "### Model\n"
   ]
  },
  {
   "cell_type": "code",
   "execution_count": 40,
   "id": "afe265a1-ff22-4fff-9b4b-69942ddc95c9",
   "metadata": {},
   "outputs": [],
   "source": [
    "from langchain.chat_models import ChatOpenAI"
   ]
  },
  {
   "cell_type": "code",
   "execution_count": 41,
   "id": "1bb1fe44-719e-46d5-ace5-43e442b37e2f",
   "metadata": {},
   "outputs": [
    {
     "data": {
      "text/plain": [
       "ChatOpenAI(client=<openai.resources.chat.completions.Completions object at 0x0000025B169E8730>, async_client=<openai.resources.chat.completions.AsyncCompletions object at 0x0000025B169EA680>, temperature=0.0, openai_api_key='sk-first-poc-sa-9gD1YHhEtTIK7nMRv5kFT3BlbkFJoCglNUQvIHIIh3A3XNW7', openai_proxy='')"
      ]
     },
     "execution_count": 41,
     "metadata": {},
     "output_type": "execute_result"
    }
   ],
   "source": [
    "# To control the randomness and creativity of the generated\n",
    "# text by an LLM, use temperature = 0.0\n",
    "chat = ChatOpenAI(temperature=0.0, model=llm_model)\n",
    "chat"
   ]
  },
  {
   "cell_type": "markdown",
   "id": "4f930384-d89a-432d-ac75-bff9f7dbbc00",
   "metadata": {},
   "source": [
    "### Prompt template"
   ]
  },
  {
   "cell_type": "code",
   "execution_count": 42,
   "id": "48606d2d-bce6-47c1-8496-74113da03339",
   "metadata": {},
   "outputs": [],
   "source": [
    "template_string = \"\"\"Translate the text \\\n",
    "that is delimited by triple backticks \\\n",
    "into a style that is {style}. \\\n",
    "text: ```{text}```\n",
    "\"\"\""
   ]
  },
  {
   "cell_type": "code",
   "execution_count": 43,
   "id": "34cccfe8-e342-4f67-b9e6-3544503aab5e",
   "metadata": {},
   "outputs": [],
   "source": [
    "from langchain.prompts import ChatPromptTemplate\n",
    "\n",
    "prompt_template = ChatPromptTemplate.from_template(template_string)\n"
   ]
  },
  {
   "cell_type": "code",
   "execution_count": 44,
   "id": "3ff2833d-b3d0-4f28-a50e-f7c8aa7f9cb3",
   "metadata": {},
   "outputs": [
    {
     "data": {
      "text/plain": [
       "PromptTemplate(input_variables=['style', 'text'], template='Translate the text that is delimited by triple backticks into a style that is {style}. text: ```{text}```\\n')"
      ]
     },
     "execution_count": 44,
     "metadata": {},
     "output_type": "execute_result"
    }
   ],
   "source": [
    "prompt_template.messages[0].prompt"
   ]
  },
  {
   "cell_type": "code",
   "execution_count": 45,
   "id": "13dc3c8a-7892-41e2-bf9a-9f7f49c5ddf7",
   "metadata": {},
   "outputs": [
    {
     "data": {
      "text/plain": [
       "['style', 'text']"
      ]
     },
     "execution_count": 45,
     "metadata": {},
     "output_type": "execute_result"
    }
   ],
   "source": [
    "prompt_template.messages[0].prompt.input_variables"
   ]
  },
  {
   "cell_type": "code",
   "execution_count": 48,
   "id": "c63bff07-9f2e-4f38-864c-95b5c8322d96",
   "metadata": {},
   "outputs": [],
   "source": [
    "translated_messages = prompt_template.format_messages(\n",
    "                    style=style,\n",
    "                    text=marathi)"
   ]
  },
  {
   "cell_type": "code",
   "execution_count": 49,
   "id": "6b41244a-fbc4-4830-a301-cf3977cf4df7",
   "metadata": {},
   "outputs": [
    {
     "name": "stdout",
     "output_type": "stream",
     "text": [
      "<class 'list'>\n",
      "<class 'langchain_core.messages.human.HumanMessage'>\n"
     ]
    }
   ],
   "source": [
    "print(type(translated_messages))\n",
    "print(type(translated_messages[0]))"
   ]
  },
  {
   "cell_type": "code",
   "execution_count": 50,
   "id": "7c727219-2b8d-4155-ac8e-cd86ac008453",
   "metadata": {},
   "outputs": [
    {
     "name": "stdout",
     "output_type": "stream",
     "text": [
      "content='Translate the text that is delimited by triple backticks into a style that is American English in a calm and respectful tone\\n. text: ```तू कसा आहेस```\\n'\n"
     ]
    }
   ],
   "source": [
    "print(translated_messages[0])"
   ]
  },
  {
   "cell_type": "code",
   "execution_count": 52,
   "id": "675723af-26ac-4eed-98b0-a34e38510365",
   "metadata": {},
   "outputs": [],
   "source": [
    "# Call the LLM to translate to the style of the customer message\n",
    "response = chat(translated_messages)"
   ]
  },
  {
   "cell_type": "code",
   "execution_count": 53,
   "id": "5e5a2de7-668c-4d4c-9b44-785182055530",
   "metadata": {},
   "outputs": [
    {
     "name": "stdout",
     "output_type": "stream",
     "text": [
      "content='How are you doing?' response_metadata={'token_usage': {'completion_tokens': 5, 'prompt_tokens': 48, 'total_tokens': 53}, 'model_name': 'gpt-3.5-turbo', 'system_fingerprint': None, 'finish_reason': 'stop', 'logprobs': None} id='run-62c2fff6-4c48-4d07-b08c-5bfec21cc8a6-0'\n"
     ]
    }
   ],
   "source": [
    "print(response)"
   ]
  },
  {
   "cell_type": "code",
   "execution_count": 54,
   "id": "c24780d9-c8a4-400f-bd8e-af1d17f5a24f",
   "metadata": {},
   "outputs": [
    {
     "name": "stdout",
     "output_type": "stream",
     "text": [
      "How are you doing?\n"
     ]
    }
   ],
   "source": [
    "print(response.content)\n"
   ]
  },
  {
   "cell_type": "code",
   "execution_count": 55,
   "id": "1c1e211b-ffd7-4e1f-8170-19e4ba1a19bf",
   "metadata": {},
   "outputs": [],
   "source": [
    "#marathi is now translated in english"
   ]
  },
  {
   "cell_type": "code",
   "execution_count": null,
   "id": "4b3021c2-41c7-46ff-a915-56b4af86a507",
   "metadata": {},
   "outputs": [],
   "source": []
  },
  {
   "cell_type": "code",
   "execution_count": 108,
   "id": "df5f2fba-4543-4056-b4ec-e8642463551f",
   "metadata": {},
   "outputs": [],
   "source": [
    "response_style = \"\"\"in Konkani with some slangs from Goa in Maharashtra, India\"\"\" "
   ]
  },
  {
   "cell_type": "code",
   "execution_count": 104,
   "id": "89feb3e7-22c3-457c-9c44-fd274285430f",
   "metadata": {},
   "outputs": [],
   "source": [
    "customized_response = \"\"\"I am relaxed, doing nothing. \\\n",
    "What are you planning on? Come, eat some fish curry\"\"\""
   ]
  },
  {
   "cell_type": "code",
   "execution_count": 111,
   "id": "5d2234fa-5bf6-4dc3-ad43-a9395b114b72",
   "metadata": {},
   "outputs": [
    {
     "name": "stdout",
     "output_type": "stream",
     "text": [
      "1\n",
      "Translate the text that is delimited by triple backticks into a style that is in Konkani with some slangs from Goa in Maharashtra, India. text: ```I am relaxed, doing nothing. What are you planning on? Come, eat some fish curry```\n",
      "\n"
     ]
    }
   ],
   "source": [
    "response_messages = prompt_template.format_messages(\n",
    "    style=response_style,\n",
    "    text=customized_response)\n",
    "\n",
    "print(len(response_messages))\n",
    "print(response_messages[0].content)"
   ]
  },
  {
   "cell_type": "code",
   "execution_count": 110,
   "id": "e80c7607-0a1d-4b1e-8fc5-ae27c4d2fb4b",
   "metadata": {},
   "outputs": [
    {
     "name": "stdout",
     "output_type": "stream",
     "text": [
      "\"Chill aila, masta zata. Tu kitem sochta? Aye, kha kitlem fish curry\"\n"
     ]
    }
   ],
   "source": [
    "response = chat(response_messages)\n",
    "print(response.content)"
   ]
  },
  {
   "cell_type": "code",
   "execution_count": null,
   "id": "7b4880bb-005b-433b-b999-638b97462252",
   "metadata": {},
   "outputs": [],
   "source": []
  },
  {
   "cell_type": "markdown",
   "id": "03b53445-16ae-49ce-9b7b-63ac09ae9f1e",
   "metadata": {},
   "source": [
    "### Output Parsers\n",
    "how we would like the LLM output to look like:"
   ]
  },
  {
   "cell_type": "code",
   "execution_count": 112,
   "id": "75df259f-86c4-4bdc-9cd0-45f271aa3c7d",
   "metadata": {},
   "outputs": [
    {
     "data": {
      "text/plain": [
       "{'gift': False, 'delivery_days': 5, 'price_value': 'pretty affordable!'}"
      ]
     },
     "execution_count": 112,
     "metadata": {},
     "output_type": "execute_result"
    }
   ],
   "source": [
    "{\n",
    "  \"gift\": False,\n",
    "  \"delivery_days\": 5,\n",
    "  \"price_value\": \"pretty affordable!\"\n",
    "}\n"
   ]
  },
  {
   "cell_type": "code",
   "execution_count": 113,
   "id": "7e393f7f-6558-4aa3-aa5a-ebdf7cac17f6",
   "metadata": {},
   "outputs": [],
   "source": [
    "customer_review = \"\"\"\\\n",
    "This leaf blower is pretty amazing.  It has four settings:\\\n",
    "candle blower, gentle breeze, windy city, and tornado. \\\n",
    "It arrived in two days, just in time for my wife's \\\n",
    "anniversary present. \\\n",
    "I think my wife liked it so much she was speechless. \\\n",
    "So far I've been the only one using it, and I've been \\\n",
    "using it every other morning to clear the leaves on our lawn. \\\n",
    "It's slightly more expensive than the other leaf blowers \\\n",
    "out there, but I think it's worth it for the extra features.\n",
    "\"\"\"\n",
    "\n",
    "review_template = \"\"\"\\\n",
    "For the following text, extract the following information:\n",
    "\n",
    "gift: Was the item purchased as a gift for someone else? \\\n",
    "Answer True if yes, False if not or unknown.\n",
    "\n",
    "delivery_days: How many days did it take for the product \\\n",
    "to arrive? If this information is not found, output -1.\n",
    "\n",
    "price_value: Extract any sentences about the value or price,\\\n",
    "and output them as a comma separated Python list.\n",
    "\n",
    "Format the output as JSON with the following keys:\n",
    "gift\n",
    "delivery_days\n",
    "price_value\n",
    "\n",
    "text: {text}\n",
    "\"\"\""
   ]
  },
  {
   "cell_type": "code",
   "execution_count": 114,
   "id": "d14be09c-7268-4f6f-8f5a-83b0f935e99c",
   "metadata": {},
   "outputs": [
    {
     "name": "stdout",
     "output_type": "stream",
     "text": [
      "input_variables=['text'] messages=[HumanMessagePromptTemplate(prompt=PromptTemplate(input_variables=['text'], template='For the following text, extract the following information:\\n\\ngift: Was the item purchased as a gift for someone else? Answer True if yes, False if not or unknown.\\n\\ndelivery_days: How many days did it take for the product to arrive? If this information is not found, output -1.\\n\\nprice_value: Extract any sentences about the value or price,and output them as a comma separated Python list.\\n\\nFormat the output as JSON with the following keys:\\ngift\\ndelivery_days\\nprice_value\\n\\ntext: {text}\\n'))]\n"
     ]
    }
   ],
   "source": [
    "prompt_template = ChatPromptTemplate.from_template(review_template)\n",
    "\n",
    "print(prompt_template)"
   ]
  },
  {
   "cell_type": "code",
   "execution_count": 115,
   "id": "49103ac1-b528-4c51-91c5-118cf0ac7951",
   "metadata": {},
   "outputs": [
    {
     "name": "stdout",
     "output_type": "stream",
     "text": [
      "{\n",
      "    \"gift\": true,\n",
      "    \"delivery_days\": 2,\n",
      "    \"price_value\": [\"It's slightly more expensive than the other leaf blowers out there\"]\n",
      "}\n"
     ]
    }
   ],
   "source": [
    "\n",
    "messages = prompt_template.format_messages(text=customer_review)\n",
    "\n",
    "chat = ChatOpenAI(temperature=0.0, model=llm_model)\n",
    "\n",
    "response = chat(messages)\n",
    "\n",
    "print(response.content)"
   ]
  },
  {
   "cell_type": "code",
   "execution_count": 116,
   "id": "4a500b96-8021-4653-b29d-4e36ab3b5fa2",
   "metadata": {},
   "outputs": [
    {
     "data": {
      "text/plain": [
       "str"
      ]
     },
     "execution_count": 116,
     "metadata": {},
     "output_type": "execute_result"
    }
   ],
   "source": [
    "type(response.content)\n"
   ]
  },
  {
   "cell_type": "code",
   "execution_count": 117,
   "id": "3dcfa652-c50b-4002-94e5-ce2775b8f172",
   "metadata": {},
   "outputs": [],
   "source": [
    "from langchain.output_parsers import ResponseSchema\n",
    "from langchain.output_parsers import StructuredOutputParser"
   ]
  },
  {
   "cell_type": "code",
   "execution_count": 118,
   "id": "e74dc89d-69a8-4689-b13f-4b0145396526",
   "metadata": {},
   "outputs": [],
   "source": [
    "gift_schema = ResponseSchema(name=\"gift\",\n",
    "                             description=\"Was the item purchased\\\n",
    "                             as a gift for someone else? \\\n",
    "                             Answer True if yes,\\\n",
    "                             False if not or unknown.\")\n",
    "delivery_days_schema = ResponseSchema(name=\"delivery_days\",\n",
    "                                      description=\"How many days\\\n",
    "                                      did it take for the product\\\n",
    "                                      to arrive? If this \\\n",
    "                                      information is not found,\\\n",
    "                                      output -1.\")\n",
    "price_value_schema = ResponseSchema(name=\"price_value\",\n",
    "                                    description=\"Extract any\\\n",
    "                                    sentences about the value or \\\n",
    "                                    price, and output them as a \\\n",
    "                                    comma separated Python list.\")\n",
    "\n",
    "response_schemas = [gift_schema, \n",
    "                    delivery_days_schema,\n",
    "                    price_value_schema]"
   ]
  },
  {
   "cell_type": "code",
   "execution_count": 119,
   "id": "6f5a2ecb-97b3-44b9-a406-60374722cea6",
   "metadata": {},
   "outputs": [],
   "source": [
    "output_parser = StructuredOutputParser.from_response_schemas(response_schemas)\n"
   ]
  },
  {
   "cell_type": "code",
   "execution_count": 120,
   "id": "cdb10b80-1c18-4a97-8c59-580a392ab95c",
   "metadata": {},
   "outputs": [],
   "source": [
    "format_instructions = output_parser.get_format_instructions()"
   ]
  },
  {
   "cell_type": "code",
   "execution_count": 121,
   "id": "fe1e3a6d-fafb-4f95-b69b-8b4a1141879a",
   "metadata": {},
   "outputs": [
    {
     "name": "stdout",
     "output_type": "stream",
     "text": [
      "The output should be a markdown code snippet formatted in the following schema, including the leading and trailing \"```json\" and \"```\":\n",
      "\n",
      "```json\n",
      "{\n",
      "\t\"gift\": string  // Was the item purchased                             as a gift for someone else?                              Answer True if yes,                             False if not or unknown.\n",
      "\t\"delivery_days\": string  // How many days                                      did it take for the product                                      to arrive? If this                                       information is not found,                                      output -1.\n",
      "\t\"price_value\": string  // Extract any                                    sentences about the value or                                     price, and output them as a                                     comma separated Python list.\n",
      "}\n",
      "```\n"
     ]
    }
   ],
   "source": [
    "print(format_instructions)"
   ]
  },
  {
   "cell_type": "code",
   "execution_count": null,
   "id": "3af651a1-ccb3-4820-a419-ec5164a230dd",
   "metadata": {},
   "outputs": [],
   "source": []
  },
  {
   "cell_type": "code",
   "execution_count": 122,
   "id": "24f0cc49-a61d-47db-989e-0510f3dbf0e7",
   "metadata": {},
   "outputs": [],
   "source": [
    "review_template_2 = \"\"\"\\\n",
    "For the following text, extract the following information:\n",
    "\n",
    "gift: Was the item purchased as a gift for someone else? \\\n",
    "Answer True if yes, False if not or unknown.\n",
    "\n",
    "delivery_days: How many days did it take for the product\\\n",
    "to arrive? If this information is not found, output -1.\n",
    "\n",
    "price_value: Extract any sentences about the value or price,\\\n",
    "and output them as a comma separated Python list.\n",
    "\n",
    "text: {text}\n",
    "\n",
    "{format_instructions}\n",
    "\"\"\"\n",
    "\n",
    "prompt = ChatPromptTemplate.from_template(template=review_template_2)\n",
    "\n",
    "messages = prompt.format_messages(text=customer_review, \n",
    "                                format_instructions=format_instructions)"
   ]
  },
  {
   "cell_type": "code",
   "execution_count": 123,
   "id": "fbcf6fe4-9044-4391-b180-29e016db61a4",
   "metadata": {},
   "outputs": [
    {
     "name": "stdout",
     "output_type": "stream",
     "text": [
      "For the following text, extract the following information:\n",
      "\n",
      "gift: Was the item purchased as a gift for someone else? Answer True if yes, False if not or unknown.\n",
      "\n",
      "delivery_days: How many days did it take for the productto arrive? If this information is not found, output -1.\n",
      "\n",
      "price_value: Extract any sentences about the value or price,and output them as a comma separated Python list.\n",
      "\n",
      "text: This leaf blower is pretty amazing.  It has four settings:candle blower, gentle breeze, windy city, and tornado. It arrived in two days, just in time for my wife's anniversary present. I think my wife liked it so much she was speechless. So far I've been the only one using it, and I've been using it every other morning to clear the leaves on our lawn. It's slightly more expensive than the other leaf blowers out there, but I think it's worth it for the extra features.\n",
      "\n",
      "\n",
      "The output should be a markdown code snippet formatted in the following schema, including the leading and trailing \"```json\" and \"```\":\n",
      "\n",
      "```json\n",
      "{\n",
      "\t\"gift\": string  // Was the item purchased                             as a gift for someone else?                              Answer True if yes,                             False if not or unknown.\n",
      "\t\"delivery_days\": string  // How many days                                      did it take for the product                                      to arrive? If this                                       information is not found,                                      output -1.\n",
      "\t\"price_value\": string  // Extract any                                    sentences about the value or                                     price, and output them as a                                     comma separated Python list.\n",
      "}\n",
      "```\n",
      "\n"
     ]
    }
   ],
   "source": [
    "print(messages[0].content)"
   ]
  },
  {
   "cell_type": "code",
   "execution_count": 124,
   "id": "6ce65c16-584e-4123-b248-ce6d1b7059bf",
   "metadata": {},
   "outputs": [],
   "source": [
    "response = chat(messages)"
   ]
  },
  {
   "cell_type": "code",
   "execution_count": 125,
   "id": "cda2d0e8-f0de-49dd-8e6f-a5e11afee492",
   "metadata": {},
   "outputs": [
    {
     "name": "stdout",
     "output_type": "stream",
     "text": [
      "```json\n",
      "{\n",
      "\t\"gift\": true,\n",
      "\t\"delivery_days\": 2,\n",
      "\t\"price_value\": [\"It's slightly more expensive than the other leaf blowers out there, but I think it's worth it for the extra features.\"]\n",
      "}\n",
      "```\n"
     ]
    }
   ],
   "source": [
    "print(response.content)"
   ]
  },
  {
   "cell_type": "code",
   "execution_count": null,
   "id": "b0102fe1-c19b-47dc-89f5-35cb736785fc",
   "metadata": {},
   "outputs": [],
   "source": []
  },
  {
   "cell_type": "code",
   "execution_count": 126,
   "id": "d0f3a990-3be1-4568-a1f7-0c86529cd36b",
   "metadata": {},
   "outputs": [],
   "source": [
    "output_dict = output_parser.parse(response.content)"
   ]
  },
  {
   "cell_type": "code",
   "execution_count": 127,
   "id": "a8987656-a3fe-4588-900a-59af339743e8",
   "metadata": {},
   "outputs": [
    {
     "data": {
      "text/plain": [
       "{'gift': True,\n",
       " 'delivery_days': 2,\n",
       " 'price_value': [\"It's slightly more expensive than the other leaf blowers out there, but I think it's worth it for the extra features.\"]}"
      ]
     },
     "execution_count": 127,
     "metadata": {},
     "output_type": "execute_result"
    }
   ],
   "source": [
    "output_dict"
   ]
  },
  {
   "cell_type": "code",
   "execution_count": 128,
   "id": "ba86e9fb-4f1f-4e6e-86ad-bb93d1061d97",
   "metadata": {},
   "outputs": [
    {
     "data": {
      "text/plain": [
       "dict"
      ]
     },
     "execution_count": 128,
     "metadata": {},
     "output_type": "execute_result"
    }
   ],
   "source": [
    "type(output_dict)"
   ]
  },
  {
   "cell_type": "code",
   "execution_count": 129,
   "id": "965efb18-2d94-4094-83f6-0071a950c210",
   "metadata": {},
   "outputs": [
    {
     "data": {
      "text/plain": [
       "2"
      ]
     },
     "execution_count": 129,
     "metadata": {},
     "output_type": "execute_result"
    }
   ],
   "source": [
    "output_dict.get('delivery_days')"
   ]
  },
  {
   "cell_type": "code",
   "execution_count": null,
   "id": "20b129aa-c942-426f-91ac-fe96e7fe73ad",
   "metadata": {},
   "outputs": [],
   "source": []
  }
 ],
 "metadata": {
  "kernelspec": {
   "display_name": "Python 3 (ipykernel)",
   "language": "python",
   "name": "python3"
  },
  "language_info": {
   "codemirror_mode": {
    "name": "ipython",
    "version": 3
   },
   "file_extension": ".py",
   "mimetype": "text/x-python",
   "name": "python",
   "nbconvert_exporter": "python",
   "pygments_lexer": "ipython3",
   "version": "3.10.10"
  }
 },
 "nbformat": 4,
 "nbformat_minor": 5
}
